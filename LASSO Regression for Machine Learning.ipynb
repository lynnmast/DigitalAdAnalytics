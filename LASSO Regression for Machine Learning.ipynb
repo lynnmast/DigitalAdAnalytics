{
 "cells": [
  {
   "cell_type": "markdown",
   "metadata": {},
   "source": [
    "# LASSO Regression for Machine Learning\n",
    "## Lynn Mast\n",
    "### Created for Digital Advertising APRD6342-001\n",
    "#### The goal for this exercise is to identify the best predictors of sales among a large data set of variables."
   ]
  },
  {
   "cell_type": "code",
   "execution_count": 2,
   "metadata": {},
   "outputs": [
    {
     "name": "stdout",
     "output_type": "stream",
     "text": [
      "['B01001014' 0.7975260265569238]\n",
      "['B01001036' 2.4975987120275827]\n",
      "['B01001037' 1.5798278110427166]\n",
      "['B01001038' 1.6358596519844413]\n",
      "['B02001005' 0.49093615792653633]\n",
      "['B13014016' 0.009433958279257113]\n",
      "['B13014026' 0.4955798244683253]\n",
      "['B13014027' 0.33105609299067307]\n",
      "['B15002015' 0.04187704921035053]\n",
      "['B15002027' 0.9363990047138775]\n",
      "['B19001017' 1.4673678524497002]\n"
     ]
    }
   ],
   "source": [
    "#libraries\n",
    "import pandas as pd\n",
    "from sklearn.cross_validation import train_test_split\n",
    "from sklearn.linear_model import LassoLarsCV\n",
    "import matplotlib.pyplot as plt\n",
    "\n",
    "#Removes warnings\n",
    "def warn(*args, **kwargs):\n",
    "    pass\n",
    "import warnings\n",
    "warnings.warn = warn\n",
    "\n",
    "#data is available in github repository\n",
    "alldata = pd.read_csv('finalmaster-ratios.csv')\n",
    "\n",
    "#Creates a list of all predictors from the data set\n",
    "allvariablenames = list(alldata.columns.values)\n",
    "\n",
    "#Remove first 8 columns as they are not predictors in the data set\n",
    "del allvariablenames[0:7]\n",
    "\n",
    "#Load predictors\n",
    "predictors = alldata[allvariablenames]\n",
    "\n",
    "#Load target\n",
    "target = alldata['# Purchases']\n",
    "\n",
    "#Split data into 70% train and 30% test with random selection\n",
    "pred_train, pred_test, tar_train, tar_test = train_test_split(predictors, target, test_size=.3, random_state=123)  \n",
    "\n",
    "#Build LASSO model with 10 fold cross vlaidation\n",
    "model = LassoLarsCV(cv=10, precompute=False).fit(pred_train, tar_train)\n",
    "\n",
    "#Create a coefficient chart for output   \n",
    "predictors_model=pd.DataFrame(allvariablenames) \n",
    "predictors_model.columns = ['label'] \n",
    "predictors_model['coeff'] = model.coef_ \n",
    "\n",
    "#For loop to iterate through the predictors_model data frame finding significant \n",
    "#coefficients greater than 0 and printing them\n",
    "for index, row in predictors_model.iterrows():\n",
    "    if row['coeff'] > 0:\n",
    "        print(row.values)"
   ]
  },
  {
   "cell_type": "code",
   "execution_count": null,
   "metadata": {},
   "outputs": [],
   "source": []
  }
 ],
 "metadata": {
  "kernelspec": {
   "display_name": "Python 3",
   "language": "python",
   "name": "python3"
  },
  "language_info": {
   "codemirror_mode": {
    "name": "ipython",
    "version": 3
   },
   "file_extension": ".py",
   "mimetype": "text/x-python",
   "name": "python",
   "nbconvert_exporter": "python",
   "pygments_lexer": "ipython3",
   "version": "3.6.5"
  }
 },
 "nbformat": 4,
 "nbformat_minor": 2
}
