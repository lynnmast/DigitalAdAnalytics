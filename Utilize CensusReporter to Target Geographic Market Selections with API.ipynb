{
 "cells": [
  {
   "cell_type": "markdown",
   "metadata": {},
   "source": [
    "# Utilize CensusReporter to Target Geographic Market Selections\n",
    "## Lynn Mast\n",
    "### Created for Digital Advertising APRD6342-001\n",
    "#### The goal of this assignment was to gather data from CensusReporter, via an API, to identify the best geographic market targets for product expansion."
   ]
  },
  {
   "cell_type": "code",
   "execution_count": 1,
   "metadata": {},
   "outputs": [],
   "source": [
    "#Libraries\n",
    "import pandas as pd\n",
    "import json\n",
    "import requests\n",
    "from time import sleep\n",
    "import numpy as np\n",
    "from statistics import mean\n",
    "\n",
    "#Data is available on github repository\n",
    "msas = pd.read_csv('msas.csv')\n",
    "\n",
    "#Tables w/info wanted\n",
    "tableids = ['B19001','B01001', 'B03003']\n",
    "\n",
    "#Join tables for json format\n",
    "tableidstring = ','.join(tableids)\n",
    "\n",
    "#A list of the CBSA codes\n",
    "listCBSA = msas['CBSA'].tolist()"
   ]
  },
  {
   "cell_type": "code",
   "execution_count": 2,
   "metadata": {},
   "outputs": [],
   "source": [
    "#Load all info from the URL, the sleep at the end of the loop gives pause to the API to \n",
    "#avoid overwhelming it and not getting the complete data requested.  This has a lengthy run time. \n",
    "#You can remove the hashtag in front of the #print(parsedjson) to see all the data, again, it is lengthy.\n",
    "for cbsa in listCBSA:\n",
    "    #print(cbsa)\n",
    "    requesturl = 'http://api.censusreporter.org/1.0/data/show/latest?table_ids=%s&geo_ids=31000US%s' % (tableidstring, cbsa)\n",
    "    #print(requesturl)\n",
    "    parsedjson = json.loads(requests.get(requesturl).text)\n",
    "    #print(parsedjson)   \n",
    "    sleep(1) "
   ]
  },
  {
   "cell_type": "code",
   "execution_count": 3,
   "metadata": {},
   "outputs": [],
   "source": [
    "#Create list to store information from table B19001 (Household Income from $50,000 - $74,900 information) \n",
    "#and run for loop to gather information. Lengthy run time.\n",
    "resultsB19001 = []\n",
    "\n",
    "for cbsa in listCBSA:\n",
    "    requesturl = 'http://api.censusreporter.org/1.0/data/show/latest?table_ids=%s&geo_ids=31000US%s' % ('B19001', cbsa)\n",
    "    parsedjson = json.loads(requests.get(requesturl).text)\n",
    "    total_hh_income = 0\n",
    "    total_hh_income += parsedjson['data']['31000US%s' %(cbsa)]['B19001']['estimate']['B19001011']\n",
    "    total_hh_income += parsedjson['data']['31000US%s' %(cbsa)]['B19001']['estimate']['B19001012']\n",
    "    resultsB19001.append(total_hh_income)\n",
    "    sleep(1)"
   ]
  },
  {
   "cell_type": "code",
   "execution_count": 4,
   "metadata": {},
   "outputs": [],
   "source": [
    "#Create list to store information from table B10001 (Age information from 18 - 34 years old)\n",
    "#and run for loop to gather information. Lengthy run time.\n",
    "resultsB01001 = []\n",
    "\n",
    "for cbsa in listCBSA:\n",
    "    requesturl = 'http://api.censusreporter.org/1.0/data/show/latest?table_ids=%s&geo_ids=31000US%s' % ('B01001', cbsa)\n",
    "    parsedjson = json.loads(requests.get(requesturl).text)\n",
    "    total_age = 0\n",
    "    total_age += parsedjson['data']['31000US%s' %(cbsa)]['B01001']['estimate']['B01001007']\n",
    "    total_age += parsedjson['data']['31000US%s' %(cbsa)]['B01001']['estimate']['B01001008']\n",
    "    total_age += parsedjson['data']['31000US%s' %(cbsa)]['B01001']['estimate']['B01001009']\n",
    "    total_age += parsedjson['data']['31000US%s' %(cbsa)]['B01001']['estimate']['B01001010']\n",
    "    total_age += parsedjson['data']['31000US%s' %(cbsa)]['B01001']['estimate']['B01001011']\n",
    "    total_age += parsedjson['data']['31000US%s' %(cbsa)]['B01001']['estimate']['B01001012']\n",
    "    total_age += parsedjson['data']['31000US%s' %(cbsa)]['B01001']['estimate']['B01001031']\n",
    "    total_age += parsedjson['data']['31000US%s' %(cbsa)]['B01001']['estimate']['B01001032']\n",
    "    total_age += parsedjson['data']['31000US%s' %(cbsa)]['B01001']['estimate']['B01001033']\n",
    "    total_age += parsedjson['data']['31000US%s' %(cbsa)]['B01001']['estimate']['B01001034']\n",
    "    total_age += parsedjson['data']['31000US%s' %(cbsa)]['B01001']['estimate']['B01001035']\n",
    "    total_age += parsedjson['data']['31000US%s' %(cbsa)]['B01001']['estimate']['B01001036']\n",
    "    resultsB01001.append(total_age)\n",
    "    sleep(1)"
   ]
  },
  {
   "cell_type": "code",
   "execution_count": 5,
   "metadata": {},
   "outputs": [],
   "source": [
    "#Create list to store information from table B03003 (Hispanic information) and run for loop to gather information. \n",
    "#Lengthy run time.\n",
    "resultsB03003 = []\n",
    "\n",
    "for cbsa in listCBSA:\n",
    "    requesturl = 'http://api.censusreporter.org/1.0/data/show/latest?table_ids=%s&geo_ids=31000US%s' % ('B03003', cbsa)\n",
    "    parsedjson = json.loads(requests.get(requesturl).text)\n",
    "    total_hisp = 0\n",
    "    total_hisp += parsedjson['data']['31000US%s' %(cbsa)]['B03003']['estimate']['B03003003']\n",
    "    resultsB03003.append(total_hisp)\n",
    "    sleep(1)"
   ]
  },
  {
   "cell_type": "code",
   "execution_count": 6,
   "metadata": {},
   "outputs": [],
   "source": [
    "#Add the results of all table information back into original data frame as new columns.\n",
    "msas['B01001'] = resultsB01001\n",
    "msas['B19001'] = resultsB19001\n",
    "msas['B03003'] = resultsB03003"
   ]
  },
  {
   "cell_type": "code",
   "execution_count": 7,
   "metadata": {},
   "outputs": [
    {
     "name": "stdout",
     "output_type": "stream",
     "text": [
      "Max Income\n"
     ]
    },
    {
     "data": {
      "text/plain": [
       "CBSA                                               35620\n",
       "NAME               New York-Newark-Jersey City, NY-NJ-PA\n",
       "POPESTIMATE2017                                 20320876\n",
       "B01001                                       4.80694e+06\n",
       "B19001                                       1.03819e+06\n",
       "B03003                                        4.9944e+06\n",
       "Name: 249, dtype: object"
      ]
     },
     "execution_count": 7,
     "metadata": {},
     "output_type": "execute_result"
    }
   ],
   "source": [
    "#Find Metro Area with Max Household Income\n",
    "print('Max Income')    \n",
    "msas.iloc[msas.B19001.idxmax()]"
   ]
  },
  {
   "cell_type": "code",
   "execution_count": 8,
   "metadata": {},
   "outputs": [
    {
     "name": "stdout",
     "output_type": "stream",
     "text": [
      "Max Age\n"
     ]
    },
    {
     "data": {
      "text/plain": [
       "CBSA                                               35620\n",
       "NAME               New York-Newark-Jersey City, NY-NJ-PA\n",
       "POPESTIMATE2017                                 20320876\n",
       "B01001                                       4.80694e+06\n",
       "B19001                                       1.03819e+06\n",
       "B03003                                        4.9944e+06\n",
       "Name: 249, dtype: object"
      ]
     },
     "execution_count": 8,
     "metadata": {},
     "output_type": "execute_result"
    }
   ],
   "source": [
    "#Find Metro Area with Max Age\n",
    "print('Max Age')  \n",
    "msas.iloc[msas.B01001.idxmax()]"
   ]
  },
  {
   "cell_type": "code",
   "execution_count": 9,
   "metadata": {},
   "outputs": [
    {
     "name": "stdout",
     "output_type": "stream",
     "text": [
      "Max Hispanic\n"
     ]
    },
    {
     "data": {
      "text/plain": [
       "CBSA                                            31080\n",
       "NAME               Los Angeles-Long Beach-Anaheim, CA\n",
       "POPESTIMATE2017                              13353907\n",
       "B01001                                    3.38111e+06\n",
       "B19001                                         708153\n",
       "B03003                                    6.03149e+06\n",
       "Name: 210, dtype: object"
      ]
     },
     "execution_count": 9,
     "metadata": {},
     "output_type": "execute_result"
    }
   ],
   "source": [
    "#Find Metro Area with Max Hispanic\n",
    "print('Max Hispanic') \n",
    "msas.iloc[msas.B03003.idxmax()] "
   ]
  },
  {
   "cell_type": "code",
   "execution_count": 11,
   "metadata": {},
   "outputs": [],
   "source": [
    "#Find Metro Area with Max Percentage Across All Categories\n",
    "#Add new coloumn to original data frame for each calculation performed\n",
    "msas['PercentIncome'] = msas['B19001']/msas['B19001'].max()\n",
    "msas['PercentAge'] = msas['B01001']/msas['B01001'].max()\n",
    "msas['PercentHispanic'] = msas['B03003']/msas['B03003'].max()\n",
    "\n",
    "#Find mean of all means\n",
    "msas['MeanPercentage'] = (msas['PercentIncome'] + msas['PercentAge'] + msas['PercentHispanic'])/3"
   ]
  },
  {
   "cell_type": "code",
   "execution_count": 12,
   "metadata": {},
   "outputs": [
    {
     "name": "stdout",
     "output_type": "stream",
     "text": [
      "Max Mean Percentage\n"
     ]
    },
    {
     "data": {
      "text/plain": [
       "CBSA                                               35620\n",
       "NAME               New York-Newark-Jersey City, NY-NJ-PA\n",
       "POPESTIMATE2017                                 20320876\n",
       "B01001                                       4.80694e+06\n",
       "B19001                                       1.03819e+06\n",
       "B03003                                        4.9944e+06\n",
       "PercentIncome                                          1\n",
       "PercentAge                                             1\n",
       "PercentHispanic                                 0.828053\n",
       "MeanPercentage                                  0.942684\n",
       "Name: 249, dtype: object"
      ]
     },
     "execution_count": 12,
     "metadata": {},
     "output_type": "execute_result"
    }
   ],
   "source": [
    "#Find Max Mean Percentage\n",
    "print('Max Mean Percentage')\n",
    "msas.iloc[msas.MeanPercentage.idxmax()]  "
   ]
  },
  {
   "cell_type": "code",
   "execution_count": null,
   "metadata": {},
   "outputs": [],
   "source": []
  }
 ],
 "metadata": {
  "kernelspec": {
   "display_name": "Python 3",
   "language": "python",
   "name": "python3"
  },
  "language_info": {
   "codemirror_mode": {
    "name": "ipython",
    "version": 3
   },
   "file_extension": ".py",
   "mimetype": "text/x-python",
   "name": "python",
   "nbconvert_exporter": "python",
   "pygments_lexer": "ipython3",
   "version": "3.6.5"
  }
 },
 "nbformat": 4,
 "nbformat_minor": 2
}
