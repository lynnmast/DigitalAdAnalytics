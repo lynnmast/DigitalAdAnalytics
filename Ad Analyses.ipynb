{
 "cells": [
  {
   "cell_type": "markdown",
   "metadata": {},
   "source": [
    "# Ad Analyses\n",
    "## Lynn Mast\n",
    "### Created for Digital Advertising APRD6342-001\n",
    "#### The goal of this exercise is to identify the days of the week with the most and least expensive cost per impression, calculate the correlation between Amount Spent and other variables, and finally to  identify which variable most strongly predicts Unique Clicks."
   ]
  },
  {
   "cell_type": "code",
   "execution_count": 1,
   "metadata": {},
   "outputs": [
    {
     "name": "stdout",
     "output_type": "stream",
     "text": [
      "0.003687913293955785\n"
     ]
    }
   ],
   "source": [
    "#libraries\n",
    "import pandas as pd\n",
    "import statistics\n",
    "import numpy as np\n",
    "import datetime\n",
    "import dateutil.parser\n",
    "\n",
    "#data is available in github repository\n",
    "pony = pd.read_csv('Travel Pony Facebook.csv')\n",
    "\n",
    "\n",
    "# create new column for cost per impression from calculation\n",
    "pony['cost_per_impression'] = pony['Amount Spent (USD)']/pony['Impressions']\n",
    "\n",
    "#Determine day of week from start date\n",
    "wkdate = pd.to_datetime(pony['Start Date'], format = '%x')\n",
    "dayowk = wkdate.dt.strftime('%A')\n",
    "\n",
    "#Add day of week column\n",
    "pony['Weekday'] = dayowk\n",
    "\n",
    "#Identify the most and least expensive cost per impression day of week by calculating cost/day\n",
    "SunCost = pony[pony['Weekday'] == 'Sunday']\n",
    "print(np.mean(SunCost['cost_per_impression'])) \n",
    "\n"
   ]
  },
  {
   "cell_type": "code",
   "execution_count": 2,
   "metadata": {},
   "outputs": [
    {
     "name": "stdout",
     "output_type": "stream",
     "text": [
      "0.0029099769333124532\n"
     ]
    }
   ],
   "source": [
    "MCost = pony[pony['Weekday'] == 'Monday']\n",
    "print(np.mean(MCost['cost_per_impression']))"
   ]
  },
  {
   "cell_type": "code",
   "execution_count": 3,
   "metadata": {},
   "outputs": [
    {
     "name": "stdout",
     "output_type": "stream",
     "text": [
      "0.003040039601778186\n"
     ]
    }
   ],
   "source": [
    "TCost = pony[pony['Weekday'] == 'Tuesday']\n",
    "print(np.mean(TCost['cost_per_impression']))"
   ]
  },
  {
   "cell_type": "code",
   "execution_count": 4,
   "metadata": {},
   "outputs": [
    {
     "name": "stdout",
     "output_type": "stream",
     "text": [
      "0.002980820271366957\n"
     ]
    }
   ],
   "source": [
    "WCost = pony[pony['Weekday'] == 'Wednesday']\n",
    "print(np.mean(WCost['cost_per_impression']))"
   ]
  },
  {
   "cell_type": "code",
   "execution_count": 5,
   "metadata": {},
   "outputs": [
    {
     "name": "stdout",
     "output_type": "stream",
     "text": [
      "0.003398311623555868\n"
     ]
    }
   ],
   "source": [
    "ThCost = pony[pony['Weekday'] == 'Thursday']\n",
    "print(np.mean(ThCost['cost_per_impression']))"
   ]
  },
  {
   "cell_type": "code",
   "execution_count": 6,
   "metadata": {},
   "outputs": [
    {
     "name": "stdout",
     "output_type": "stream",
     "text": [
      "0.004096890719487211\n"
     ]
    }
   ],
   "source": [
    "FCost = pony[pony['Weekday'] == 'Friday']\n",
    "print(np.mean(FCost['cost_per_impression']))\n",
    "#Most Expensive"
   ]
  },
  {
   "cell_type": "code",
   "execution_count": 7,
   "metadata": {},
   "outputs": [
    {
     "name": "stdout",
     "output_type": "stream",
     "text": [
      "0.0026286969333697923\n"
     ]
    }
   ],
   "source": [
    "SaCost = pony[pony['Weekday'] == 'Saturday']\n",
    "print(np.mean(SaCost['cost_per_impression']))\n",
    "#Least Expensive"
   ]
  },
  {
   "cell_type": "code",
   "execution_count": 10,
   "metadata": {},
   "outputs": [
    {
     "name": "stdout",
     "output_type": "stream",
     "text": [
      "                    Amount Spent (USD)     Reach  Frequency  Unique Clicks  \\\n",
      "Amount Spent (USD)            1.000000  0.703124   0.130201       0.882993   \n",
      "Reach                         0.703124  1.000000   0.334101       0.722249   \n",
      "Frequency                     0.130201  0.334101   1.000000       0.135103   \n",
      "Unique Clicks                 0.882993  0.722249   0.135103       1.000000   \n",
      "Page Likes                    0.757612  0.304388   0.000182       0.584614   \n",
      "\n",
      "                    Page Likes  \n",
      "Amount Spent (USD)    0.757612  \n",
      "Reach                 0.304388  \n",
      "Frequency             0.000182  \n",
      "Unique Clicks         0.584614  \n",
      "Page Likes            1.000000  \n"
     ]
    }
   ],
   "source": [
    "#Calculate correlation of Amount Spent with Reach, Frequency, Unique Clicks, Page Likes\n",
    "ponymcorr = pony[['Amount Spent (USD)', 'Reach', 'Frequency', 'Unique Clicks', 'Page Likes']].corr()\n",
    "print(ponymcorr)\n",
    "#Correlation shows Unique Clicks is most strongly correlated with Amount Spent"
   ]
  },
  {
   "cell_type": "code",
   "execution_count": 11,
   "metadata": {},
   "outputs": [
    {
     "data": {
      "text/html": [
       "<table class=\"simpletable\">\n",
       "<caption>OLS Regression Results</caption>\n",
       "<tr>\n",
       "  <th>Dep. Variable:</th>      <td>Unique Clicks</td>  <th>  R-squared:         </th> <td>   0.557</td> \n",
       "</tr>\n",
       "<tr>\n",
       "  <th>Model:</th>                   <td>OLS</td>       <th>  Adj. R-squared:    </th> <td>   0.556</td> \n",
       "</tr>\n",
       "<tr>\n",
       "  <th>Method:</th>             <td>Least Squares</td>  <th>  F-statistic:       </th> <td>   2325.</td> \n",
       "</tr>\n",
       "<tr>\n",
       "  <th>Date:</th>             <td>Sun, 14 Oct 2018</td> <th>  Prob (F-statistic):</th>  <td>  0.00</td>  \n",
       "</tr>\n",
       "<tr>\n",
       "  <th>Time:</th>                 <td>18:54:10</td>     <th>  Log-Likelihood:    </th> <td> -15973.</td> \n",
       "</tr>\n",
       "<tr>\n",
       "  <th>No. Observations:</th>      <td>  3705</td>      <th>  AIC:               </th> <td>3.195e+04</td>\n",
       "</tr>\n",
       "<tr>\n",
       "  <th>Df Residuals:</th>          <td>  3703</td>      <th>  BIC:               </th> <td>3.196e+04</td>\n",
       "</tr>\n",
       "<tr>\n",
       "  <th>Df Model:</th>              <td>     2</td>      <th>                     </th>     <td> </td>    \n",
       "</tr>\n",
       "<tr>\n",
       "  <th>Covariance Type:</th>      <td>nonrobust</td>    <th>                     </th>     <td> </td>    \n",
       "</tr>\n",
       "</table>\n",
       "<table class=\"simpletable\">\n",
       "<tr>\n",
       "      <td></td>         <th>coef</th>     <th>std err</th>      <th>t</th>      <th>P>|t|</th>  <th>[0.025</th>    <th>0.975]</th>  \n",
       "</tr>\n",
       "<tr>\n",
       "  <th>Reach</th>     <td>    0.0019</td> <td> 3.12e-05</td> <td>   62.490</td> <td> 0.000</td> <td>    0.002</td> <td>    0.002</td>\n",
       "</tr>\n",
       "<tr>\n",
       "  <th>Frequency</th> <td>    3.6139</td> <td>    0.298</td> <td>   12.109</td> <td> 0.000</td> <td>    3.029</td> <td>    4.199</td>\n",
       "</tr>\n",
       "</table>\n",
       "<table class=\"simpletable\">\n",
       "<tr>\n",
       "  <th>Omnibus:</th>       <td>5107.616</td> <th>  Durbin-Watson:     </th>  <td>   0.803</td>  \n",
       "</tr>\n",
       "<tr>\n",
       "  <th>Prob(Omnibus):</th>  <td> 0.000</td>  <th>  Jarque-Bera (JB):  </th> <td>5128392.747</td>\n",
       "</tr>\n",
       "<tr>\n",
       "  <th>Skew:</th>           <td> 7.331</td>  <th>  Prob(JB):          </th>  <td>    0.00</td>  \n",
       "</tr>\n",
       "<tr>\n",
       "  <th>Kurtosis:</th>       <td>184.674</td> <th>  Cond. No.          </th>  <td>9.84e+03</td>  \n",
       "</tr>\n",
       "</table><br/><br/>Warnings:<br/>[1] Standard Errors assume that the covariance matrix of the errors is correctly specified.<br/>[2] The condition number is large, 9.84e+03. This might indicate that there are<br/>strong multicollinearity or other numerical problems."
      ],
      "text/plain": [
       "<class 'statsmodels.iolib.summary.Summary'>\n",
       "\"\"\"\n",
       "                            OLS Regression Results                            \n",
       "==============================================================================\n",
       "Dep. Variable:          Unique Clicks   R-squared:                       0.557\n",
       "Model:                            OLS   Adj. R-squared:                  0.556\n",
       "Method:                 Least Squares   F-statistic:                     2325.\n",
       "Date:                Sun, 14 Oct 2018   Prob (F-statistic):               0.00\n",
       "Time:                        18:54:10   Log-Likelihood:                -15973.\n",
       "No. Observations:                3705   AIC:                         3.195e+04\n",
       "Df Residuals:                    3703   BIC:                         3.196e+04\n",
       "Df Model:                           2                                         \n",
       "Covariance Type:            nonrobust                                         \n",
       "==============================================================================\n",
       "                 coef    std err          t      P>|t|      [0.025      0.975]\n",
       "------------------------------------------------------------------------------\n",
       "Reach          0.0019   3.12e-05     62.490      0.000       0.002       0.002\n",
       "Frequency      3.6139      0.298     12.109      0.000       3.029       4.199\n",
       "==============================================================================\n",
       "Omnibus:                     5107.616   Durbin-Watson:                   0.803\n",
       "Prob(Omnibus):                  0.000   Jarque-Bera (JB):          5128392.747\n",
       "Skew:                           7.331   Prob(JB):                         0.00\n",
       "Kurtosis:                     184.674   Cond. No.                     9.84e+03\n",
       "==============================================================================\n",
       "\n",
       "Warnings:\n",
       "[1] Standard Errors assume that the covariance matrix of the errors is correctly specified.\n",
       "[2] The condition number is large, 9.84e+03. This might indicate that there are\n",
       "strong multicollinearity or other numerical problems.\n",
       "\"\"\""
      ]
     },
     "execution_count": 11,
     "metadata": {},
     "output_type": "execute_result"
    }
   ],
   "source": [
    "#Perform simple multiple regression to identify the variable that most strongly predicts Unique Clicks\n",
    "import statsmodels.api as sm\n",
    "X = pony[['Reach', 'Frequency']]\n",
    "y = pony['Unique Clicks']\n",
    "model = sm.OLS(y, X).fit()\n",
    "predictions = model.predict(X)\n",
    "model.summary()\n",
    "#Frequency strongly predicts Unique Clicks"
   ]
  },
  {
   "cell_type": "code",
   "execution_count": null,
   "metadata": {},
   "outputs": [],
   "source": []
  }
 ],
 "metadata": {
  "kernelspec": {
   "display_name": "Python 3",
   "language": "python",
   "name": "python3"
  },
  "language_info": {
   "codemirror_mode": {
    "name": "ipython",
    "version": 3
   },
   "file_extension": ".py",
   "mimetype": "text/x-python",
   "name": "python",
   "nbconvert_exporter": "python",
   "pygments_lexer": "ipython3",
   "version": "3.6.5"
  }
 },
 "nbformat": 4,
 "nbformat_minor": 2
}
